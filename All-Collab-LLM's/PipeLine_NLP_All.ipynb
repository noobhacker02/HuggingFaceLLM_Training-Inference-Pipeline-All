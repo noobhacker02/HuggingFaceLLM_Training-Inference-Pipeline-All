{
  "nbformat": 4,
  "nbformat_minor": 0,
  "metadata": {
    "colab": {
      "provenance": []
    },
    "kernelspec": {
      "name": "python3",
      "display_name": "Python 3"
    },
    "language_info": {
      "name": "python"
    }
  },
  "cells": [
    {
      "cell_type": "markdown",
      "source": [
        "Text Classfication"
      ],
      "metadata": {
        "id": "HytI8jNZCFz3"
      }
    },
    {
      "cell_type": "code",
      "execution_count": null,
      "metadata": {
        "id": "rtYFgKEeSU8u"
      },
      "outputs": [],
      "source": [
        "from transformers import pipeline"
      ]
    },
    {
      "cell_type": "code",
      "source": [
        "classifier = pipeline(\"text-classification\", model=\"distilbert-base-uncased-finetuned-sst-2-english\")"
      ],
      "metadata": {
        "colab": {
          "base_uri": "https://localhost:8080/",
          "height": 162,
          "referenced_widgets": [
            "5cb51059f31e4578884feb7df5053918",
            "fa2118d656b64fd590893d9341fc439a",
            "06a42b50688548ff93564ba0a5719382",
            "dc37043891b24b0d89ea71b611c14c2b",
            "55699b7dd11e453d9916eb6b2388baf0",
            "1db80cb32f5649a9825b367f0678aa4f",
            "0dbadd685150421fab1a10aec6a47a14",
            "933d1ba1a05f40f28325f1111e6fd767",
            "a97034a690f34eaca6a31c5dd6e93281",
            "4ac6dbca9bf94be6b8b3640ab6a3cf89",
            "fa05708f73bd4c62bbe5ab5290bf2bc7",
            "a2447280c76641689f01592384e3a86b",
            "3077f28841d54694a9780f3414a49ff6",
            "6b3bbb732f8b4f6b9fb766c7d02e11a6",
            "2503cad7d85043008af43d212ae7462f",
            "6d1435ff800746f1b78394d926b96227",
            "ec6b4d225fce45528df136482fe680b1",
            "48e6cfd9c42c43a2bd213641efa2d76b",
            "61bbd111e98b4fda92244d70037f07bc",
            "f0ed424791ae479f8a7404480d29439a",
            "f8631687e7f14a1dba70b1d205ad9a85",
            "82f8f9482e09468db7fc0591d4e46871",
            "611d87e89b91481790ec38c79db923a7",
            "72f3d3844e794f50b3f5f755f9aae42e",
            "60c646c31f35476786083dfa240e30a3",
            "35bb6be20b25469092f2fd47e5b17a11",
            "10a0ef8fd755467099f0f82eb30b34ca",
            "af56b08dd11c4b7a852c2c06d718ea92",
            "373f026d55c94fbfb64dd309bb9aa015",
            "9fd8feca48a24039884d37eef05a8e26",
            "5044eb1e9b2b45a98692f9ee3e63c162",
            "63ec99bc49944452b2a4022ae9b09832",
            "33c1dd417dd04d3e94208cbe3d25c6a3",
            "f59f42c8753347bfbf300b7023275212",
            "84ee224afd43451a9681f3fcccbe912c",
            "f3b9417f92e641c69aaf55f13e01246e",
            "9e7c57605bc14dbf823b975e84ba169f",
            "a7102d9c8a4547919f67faaa9fcf7339",
            "1e8db2ac5a6841d2ade74f21a8aa0125",
            "32d62a5660074bd78a037620a75c0978",
            "2c40a40ab2c1459eae5be6bbf735d454",
            "90f8873752d34402b9970c9e863b5fed",
            "f041090f24f7440793e8a2d223c31f2a",
            "7c1ce9422e2f4a46aaa2a8d7590f2ec4"
          ]
        },
        "id": "tfr017jF9aMr",
        "outputId": "b329f8aa-908c-463b-8fe3-b58c0e025448"
      },
      "execution_count": null,
      "outputs": [
        {
          "output_type": "display_data",
          "data": {
            "text/plain": [
              "config.json:   0%|          | 0.00/629 [00:00<?, ?B/s]"
            ],
            "application/vnd.jupyter.widget-view+json": {
              "version_major": 2,
              "version_minor": 0,
              "model_id": "5cb51059f31e4578884feb7df5053918"
            }
          },
          "metadata": {}
        },
        {
          "output_type": "display_data",
          "data": {
            "text/plain": [
              "model.safetensors:   0%|          | 0.00/268M [00:00<?, ?B/s]"
            ],
            "application/vnd.jupyter.widget-view+json": {
              "version_major": 2,
              "version_minor": 0,
              "model_id": "a2447280c76641689f01592384e3a86b"
            }
          },
          "metadata": {}
        },
        {
          "output_type": "display_data",
          "data": {
            "text/plain": [
              "tokenizer_config.json:   0%|          | 0.00/48.0 [00:00<?, ?B/s]"
            ],
            "application/vnd.jupyter.widget-view+json": {
              "version_major": 2,
              "version_minor": 0,
              "model_id": "611d87e89b91481790ec38c79db923a7"
            }
          },
          "metadata": {}
        },
        {
          "output_type": "display_data",
          "data": {
            "text/plain": [
              "vocab.txt:   0%|          | 0.00/232k [00:00<?, ?B/s]"
            ],
            "application/vnd.jupyter.widget-view+json": {
              "version_major": 2,
              "version_minor": 0,
              "model_id": "f59f42c8753347bfbf300b7023275212"
            }
          },
          "metadata": {}
        },
        {
          "output_type": "stream",
          "name": "stderr",
          "text": [
            "Device set to use cpu\n"
          ]
        }
      ]
    },
    {
      "cell_type": "code",
      "source": [
        "print(classifier(\"I love Hugging Face!\"))"
      ],
      "metadata": {
        "colab": {
          "base_uri": "https://localhost:8080/"
        },
        "id": "057igNG2-L5L",
        "outputId": "8058639b-925e-4425-ea35-a7f08b03cd7a"
      },
      "execution_count": null,
      "outputs": [
        {
          "output_type": "stream",
          "name": "stdout",
          "text": [
            "[{'label': 'POSITIVE', 'score': 0.9998641014099121}]\n"
          ]
        }
      ]
    },
    {
      "cell_type": "markdown",
      "source": [
        "Token Classification POS/LOC/PER"
      ],
      "metadata": {
        "id": "V7n5EKsJCOCn"
      }
    },
    {
      "cell_type": "code",
      "source": [
        "#Uses extra Argument/Parameter input as aggregation stratergy which tells how to show if shown none gives raw output\n",
        "TokenClassification = pipeline('token-classification',model='dbmdz/bert-large-cased-finetuned-conll03-english',aggregation_strategy='simple')"
      ],
      "metadata": {
        "colab": {
          "base_uri": "https://localhost:8080/",
          "height": 234,
          "referenced_widgets": [
            "b9ad663c56464d278a6683a711eb03b0",
            "1d906b4ac199439da61d2e7a34e84933",
            "ceb4537c63b94092b8c988746770c44d",
            "53e09b19266342008166394171e828d3",
            "bd48022dda584bc4b6c3fb45033f8100",
            "bb4bdb98ecbc4c8aacbae36eca692d94",
            "6f6532c62e2f42d0bbbf753de8c0d80d",
            "7e9fbca4cb994660bfc2ddb45b1dc0a3",
            "21bf680742614ec6b0f75577eee7af66",
            "04c530cf0cb3480ab289ded8a717107f",
            "6aaa702a750c4fe4b598189ca0efa12f",
            "29a68e7c213f48938537b13586ddf02b",
            "77ccc346874d4267b74f1f536eb89049",
            "ca8a22bee2234089919fe3394ed650b8",
            "a87c73d5331f415abe0d02bd511cc752",
            "03c1482fe2964291ac8d186eb0bd58da",
            "da25c95d4b544380875a9d6df424f806",
            "44236d1e59f543e989f8564c5c8ab54c",
            "30507e53798042f796f9feee50ca2d7d",
            "74af4ebdfd2842d48c8d481ce5ea7239",
            "ce1ed0451b2d4b20b30df9f3459d1537",
            "7b016f71cea24fa587c513100e3c14ad",
            "5a745361385c443b86df398ed323dcf9",
            "639f6ee3027b44bbbff9e09c57c0bc8e",
            "4a024408201e4118b9be42f7cb98e566",
            "eb5e33a6f5eb4f44af36b0243b449ac2",
            "e79d48dcac234d5c9475597f7eafa061",
            "e974f8933f8942299b82995f1616d4ae",
            "1475513161b64db3ba05aa7a7191d713",
            "61ea944dbff04db8939d0d0820636c5c",
            "2f43ec37676346c799a2cd370dd5ca2b",
            "e4fb61beaeb54e13aff09a8843a2b921",
            "c84773db65804c9ba627020cf8fb336b",
            "01a4313c58634b33a65224310e8d7a6c",
            "eabccb73aae7402e908bf09bc2f7384a",
            "b1999bb1fe6847e99dd7d89b2f5ec36a",
            "2f8d2709bcdd4d53a0fe37d1b2e6efdf",
            "92c2824e02344454a5188f5290161702",
            "05da4f4f81d64bd485915f159875bffb",
            "9bdfa8e515334293ad63d3fa0632d576",
            "36a83d86058542988570bc99cf386249",
            "aee63ac1eceb4805ade84ff12f41288e",
            "892fff8cf4fc489db9d76c6b56de1216",
            "8148f15243374d88b04643fe6d4eae65"
          ]
        },
        "id": "wuNgDCn89vaJ",
        "outputId": "73ad2cc2-8f22-4333-a02d-ef89e1054325"
      },
      "execution_count": null,
      "outputs": [
        {
          "output_type": "display_data",
          "data": {
            "text/plain": [
              "config.json:   0%|          | 0.00/998 [00:00<?, ?B/s]"
            ],
            "application/vnd.jupyter.widget-view+json": {
              "version_major": 2,
              "version_minor": 0,
              "model_id": "b9ad663c56464d278a6683a711eb03b0"
            }
          },
          "metadata": {}
        },
        {
          "output_type": "display_data",
          "data": {
            "text/plain": [
              "model.safetensors:   0%|          | 0.00/1.33G [00:00<?, ?B/s]"
            ],
            "application/vnd.jupyter.widget-view+json": {
              "version_major": 2,
              "version_minor": 0,
              "model_id": "29a68e7c213f48938537b13586ddf02b"
            }
          },
          "metadata": {}
        },
        {
          "output_type": "stream",
          "name": "stderr",
          "text": [
            "Some weights of the model checkpoint at dbmdz/bert-large-cased-finetuned-conll03-english were not used when initializing BertForTokenClassification: ['bert.pooler.dense.bias', 'bert.pooler.dense.weight']\n",
            "- This IS expected if you are initializing BertForTokenClassification from the checkpoint of a model trained on another task or with another architecture (e.g. initializing a BertForSequenceClassification model from a BertForPreTraining model).\n",
            "- This IS NOT expected if you are initializing BertForTokenClassification from the checkpoint of a model that you expect to be exactly identical (initializing a BertForSequenceClassification model from a BertForSequenceClassification model).\n"
          ]
        },
        {
          "output_type": "display_data",
          "data": {
            "text/plain": [
              "tokenizer_config.json:   0%|          | 0.00/60.0 [00:00<?, ?B/s]"
            ],
            "application/vnd.jupyter.widget-view+json": {
              "version_major": 2,
              "version_minor": 0,
              "model_id": "5a745361385c443b86df398ed323dcf9"
            }
          },
          "metadata": {}
        },
        {
          "output_type": "display_data",
          "data": {
            "text/plain": [
              "vocab.txt: 0.00B [00:00, ?B/s]"
            ],
            "application/vnd.jupyter.widget-view+json": {
              "version_major": 2,
              "version_minor": 0,
              "model_id": "01a4313c58634b33a65224310e8d7a6c"
            }
          },
          "metadata": {}
        },
        {
          "output_type": "stream",
          "name": "stderr",
          "text": [
            "Device set to use cpu\n"
          ]
        }
      ]
    },
    {
      "cell_type": "code",
      "source": [
        "print(TokenClassification('My name is Talha and I live in Mumbai but my brother faizan lives in my Head just kidding he is in India as well'))"
      ],
      "metadata": {
        "colab": {
          "base_uri": "https://localhost:8080/"
        },
        "id": "NsGMy_h_-IVk",
        "outputId": "7c70b141-e4af-440c-d291-a9af2a12f566"
      },
      "execution_count": null,
      "outputs": [
        {
          "output_type": "stream",
          "name": "stdout",
          "text": [
            "[{'entity_group': 'PER', 'score': np.float32(0.98612493), 'word': 'Talha', 'start': 11, 'end': 16}, {'entity_group': 'LOC', 'score': np.float32(0.99948967), 'word': 'Mumbai', 'start': 31, 'end': 37}, {'entity_group': 'PER', 'score': np.float32(0.92220974), 'word': 'faizan', 'start': 53, 'end': 59}, {'entity_group': 'LOC', 'score': np.float32(0.4500741), 'word': 'Head', 'start': 72, 'end': 76}, {'entity_group': 'LOC', 'score': np.float32(0.9998041), 'word': 'India', 'start': 99, 'end': 104}]\n"
          ]
        }
      ]
    },
    {
      "cell_type": "markdown",
      "source": [
        "Mask Filler"
      ],
      "metadata": {
        "id": "qXYvUM9ACYdA"
      }
    },
    {
      "cell_type": "code",
      "source": [
        "maskfill = pipeline('fill-mask',model='bert-base-uncased')"
      ],
      "metadata": {
        "colab": {
          "base_uri": "https://localhost:8080/",
          "height": 266,
          "referenced_widgets": [
            "1ef0bd2353a545959043eff0db61ce8e",
            "b54592f110294e6cbb08683e3123e8d0",
            "5a5f13d9347149acbfd4ca2bfdf6e778",
            "4482ed9f9385470796db669a5f91eae0",
            "30b6242d46244d77b2016342be8ebd42",
            "d880d9a953294f69812c2335c2ad8b9f",
            "5e723811e72046a49f8add86ea7344e7",
            "9db990b6b34347bba87b1b2a6b5a6a32",
            "446890ac6d354942adc391922fa8cc98",
            "501b98fc750f4dd5a801b34cb515947f",
            "1766d9c125f44294a0d6bc46d86b9afd",
            "fbd56573f794433e904aed937789ffe5",
            "177dce520762404ebe2ae433919e7168",
            "c2790a28426e4ab38eacedc4713917cc",
            "098967e51ee745beb6ab7ed183990e67",
            "f8424208bd7140789e43300c8d749969",
            "64dea45598e34b59855ae516adbc68b8",
            "51854085577c4642b88c35adb6977b07",
            "4da8de3d1d914031a536c3da55d890b9",
            "64b75a550c914dd5b3da6ed06dc404cb",
            "6570f0912ca1483ca3964596371b6410",
            "3cb278fd2c2647af9427ca45994343be",
            "95736554831947a69a7adee2379f5223",
            "0974b238752a4a4aada23a21e0a34b26",
            "9e82b6f456e34302815e6aee5a3ad747",
            "f4556ff217424b4abdbc0f621efe34b4",
            "e4fad2f057ce40f6a10d705cce6f7bd7",
            "bfe497e6375c45628cbefb0cf857ffcf",
            "2f3cd053885c4324b14d94cb64a2b574",
            "5ec7149dc29445ffb51b553706789b6a",
            "e59524f46b6140fa9deb8957d902a7b9",
            "a18c4862eb0f4e839a0e2728fc2cf4a4",
            "a4df6632eed54d3a932f329a6640374d",
            "53692aaab8024da580183bd68e07700c",
            "6d822c89009d47feabc83b94fed15f59",
            "e82a98478fb94d6da4c3b93a8a4a2414",
            "12d52bfeeb6d460ba7c7a5aa43fb0a2c",
            "9ceba426fd4f463db8a75b5184aad93f",
            "85143dbecf5647bd9f529ba2834bc02e",
            "33a718eb67154c509a6f61e495b5a2e1",
            "aff8703788cb4a2da60d6ccee63e36b8",
            "57a6671143ff4631bf6d283bb6884f25",
            "eb0c4b5a1f904ce9b5a2346d7b67bd3a",
            "93e5b067b4294e46b01be15d2582721e",
            "dbf47a698b7c43c382ab571b1d61f9e2",
            "68ebf8c30e2a4d45aeb5e554805881f3",
            "8b27d6fa4c9c46bf84ced509d41a8c75",
            "2ea2aa28bef845b5a906b94dec8322fa",
            "2ee52587536b49c1925d56b19e4483a5",
            "fc2768e2008145ea98c0e8cdf23e5d9b",
            "bf2dc775203b425bbe0bc86d6f30eb5a",
            "9f334ee851034a9dabd899f657d3c050",
            "346ab703c01349d39cd4ba33aee865f6",
            "3e6bd597ac534e5f9fd213cc88a4614e",
            "0044305f985d4ac7b15e279ea6d20bce"
          ]
        },
        "id": "tdzr08V-_GBc",
        "outputId": "1f633d97-59bb-4464-8922-116a999033f0"
      },
      "execution_count": null,
      "outputs": [
        {
          "output_type": "display_data",
          "data": {
            "text/plain": [
              "config.json:   0%|          | 0.00/570 [00:00<?, ?B/s]"
            ],
            "application/vnd.jupyter.widget-view+json": {
              "version_major": 2,
              "version_minor": 0,
              "model_id": "1ef0bd2353a545959043eff0db61ce8e"
            }
          },
          "metadata": {}
        },
        {
          "output_type": "display_data",
          "data": {
            "text/plain": [
              "model.safetensors:   0%|          | 0.00/440M [00:00<?, ?B/s]"
            ],
            "application/vnd.jupyter.widget-view+json": {
              "version_major": 2,
              "version_minor": 0,
              "model_id": "fbd56573f794433e904aed937789ffe5"
            }
          },
          "metadata": {}
        },
        {
          "output_type": "stream",
          "name": "stderr",
          "text": [
            "Some weights of the model checkpoint at bert-base-uncased were not used when initializing BertForMaskedLM: ['bert.pooler.dense.bias', 'bert.pooler.dense.weight', 'cls.seq_relationship.bias', 'cls.seq_relationship.weight']\n",
            "- This IS expected if you are initializing BertForMaskedLM from the checkpoint of a model trained on another task or with another architecture (e.g. initializing a BertForSequenceClassification model from a BertForPreTraining model).\n",
            "- This IS NOT expected if you are initializing BertForMaskedLM from the checkpoint of a model that you expect to be exactly identical (initializing a BertForSequenceClassification model from a BertForSequenceClassification model).\n"
          ]
        },
        {
          "output_type": "display_data",
          "data": {
            "text/plain": [
              "tokenizer_config.json:   0%|          | 0.00/48.0 [00:00<?, ?B/s]"
            ],
            "application/vnd.jupyter.widget-view+json": {
              "version_major": 2,
              "version_minor": 0,
              "model_id": "95736554831947a69a7adee2379f5223"
            }
          },
          "metadata": {}
        },
        {
          "output_type": "display_data",
          "data": {
            "text/plain": [
              "vocab.txt:   0%|          | 0.00/232k [00:00<?, ?B/s]"
            ],
            "application/vnd.jupyter.widget-view+json": {
              "version_major": 2,
              "version_minor": 0,
              "model_id": "53692aaab8024da580183bd68e07700c"
            }
          },
          "metadata": {}
        },
        {
          "output_type": "display_data",
          "data": {
            "text/plain": [
              "tokenizer.json:   0%|          | 0.00/466k [00:00<?, ?B/s]"
            ],
            "application/vnd.jupyter.widget-view+json": {
              "version_major": 2,
              "version_minor": 0,
              "model_id": "dbf47a698b7c43c382ab571b1d61f9e2"
            }
          },
          "metadata": {}
        },
        {
          "output_type": "stream",
          "name": "stderr",
          "text": [
            "Device set to use cpu\n"
          ]
        }
      ]
    },
    {
      "cell_type": "code",
      "source": [
        "print(maskfill('Fill this [MASK] With Something magical and [MASK] okay thats the end'))\n",
        "output1 = maskfill('Fill this [MASK] With Something magical and [MASK] okay thats the end')"
      ],
      "metadata": {
        "colab": {
          "base_uri": "https://localhost:8080/"
        },
        "id": "f3gULyAOP5W7",
        "outputId": "e0dc2f14-7174-4077-aeda-33f8de9fd796"
      },
      "execution_count": null,
      "outputs": [
        {
          "output_type": "stream",
          "name": "stdout",
          "text": [
            "[[{'score': 0.15639539062976837, 'token': 2686, 'token_str': 'space', 'sequence': '[CLS] fill this space with something magical and [MASK] okay thats the end [SEP]'}, {'score': 0.1365295797586441, 'token': 2282, 'token_str': 'room', 'sequence': '[CLS] fill this room with something magical and [MASK] okay thats the end [SEP]'}, {'score': 0.08164815604686737, 'token': 2088, 'token_str': 'world', 'sequence': '[CLS] fill this world with something magical and [MASK] okay thats the end [SEP]'}, {'score': 0.06568676978349686, 'token': 2173, 'token_str': 'place', 'sequence': '[CLS] fill this place with something magical and [MASK] okay thats the end [SEP]'}, {'score': 0.050963565707206726, 'token': 2617, 'token_str': 'moment', 'sequence': '[CLS] fill this moment with something magical and [MASK] okay thats the end [SEP]'}], [{'score': 0.44437018036842346, 'token': 2133, 'token_str': '...', 'sequence': '[CLS] fill this [MASK] with something magical and... okay thats the end [SEP]'}, {'score': 0.15177558362483978, 'token': 2022, 'token_str': 'be', 'sequence': '[CLS] fill this [MASK] with something magical and be okay thats the end [SEP]'}, {'score': 0.056664515286684036, 'token': 1010, 'token_str': ',', 'sequence': '[CLS] fill this [MASK] with something magical and, okay thats the end [SEP]'}, {'score': 0.03711717203259468, 'token': 1011, 'token_str': '-', 'sequence': '[CLS] fill this [MASK] with something magical and - okay thats the end [SEP]'}, {'score': 0.023143550381064415, 'token': 2360, 'token_str': 'say', 'sequence': '[CLS] fill this [MASK] with something magical and say okay thats the end [SEP]'}]]\n"
          ]
        }
      ]
    },
    {
      "cell_type": "code",
      "source": [
        "text = \"Fill this [MASK] with something magical and [MASK] okay thats the end\"\n",
        "#Uses extra Argument/Parameter input as number of predictions we want for it\n",
        "results = maskfill(text, top_k=3)  # top 3 predictions"
      ],
      "metadata": {
        "id": "jFvmEAM4hAQW"
      },
      "execution_count": null,
      "outputs": []
    },
    {
      "cell_type": "code",
      "source": [
        "results"
      ],
      "metadata": {
        "colab": {
          "base_uri": "https://localhost:8080/"
        },
        "id": "wB32IOz_hCDH",
        "outputId": "4f6157b4-8088-48d9-f443-b56cec29a0fa"
      },
      "execution_count": null,
      "outputs": [
        {
          "output_type": "execute_result",
          "data": {
            "text/plain": [
              "[[{'score': 0.15639539062976837,\n",
              "   'token': 2686,\n",
              "   'token_str': 'space',\n",
              "   'sequence': '[CLS] fill this space with something magical and [MASK] okay thats the end [SEP]'},\n",
              "  {'score': 0.1365295797586441,\n",
              "   'token': 2282,\n",
              "   'token_str': 'room',\n",
              "   'sequence': '[CLS] fill this room with something magical and [MASK] okay thats the end [SEP]'},\n",
              "  {'score': 0.08164815604686737,\n",
              "   'token': 2088,\n",
              "   'token_str': 'world',\n",
              "   'sequence': '[CLS] fill this world with something magical and [MASK] okay thats the end [SEP]'}],\n",
              " [{'score': 0.44437018036842346,\n",
              "   'token': 2133,\n",
              "   'token_str': '...',\n",
              "   'sequence': '[CLS] fill this [MASK] with something magical and... okay thats the end [SEP]'},\n",
              "  {'score': 0.15177558362483978,\n",
              "   'token': 2022,\n",
              "   'token_str': 'be',\n",
              "   'sequence': '[CLS] fill this [MASK] with something magical and be okay thats the end [SEP]'},\n",
              "  {'score': 0.056664515286684036,\n",
              "   'token': 1010,\n",
              "   'token_str': ',',\n",
              "   'sequence': '[CLS] fill this [MASK] with something magical and, okay thats the end [SEP]'}]]"
            ]
          },
          "metadata": {},
          "execution_count": 10
        }
      ]
    },
    {
      "cell_type": "code",
      "source": [
        "#printing each mask results\n",
        "print(\"\\nRAW RESULTS:\\n\")\n",
        "for i, mask_preds in enumerate(results):\n",
        "    print(f\"\\nMask {i+1}:\")\n",
        "    for pred in mask_preds:\n",
        "        print(pred[\"sequence\"])"
      ],
      "metadata": {
        "colab": {
          "base_uri": "https://localhost:8080/"
        },
        "id": "FhTkC8eYiXgd",
        "outputId": "dada0a38-e945-47ef-edb5-9e8f1aca84f9"
      },
      "execution_count": null,
      "outputs": [
        {
          "output_type": "stream",
          "name": "stdout",
          "text": [
            "\n",
            "RAW RESULTS:\n",
            "\n",
            "\n",
            "Mask 1:\n",
            "[CLS] fill this space with something magical and [MASK] okay thats the end [SEP]\n",
            "[CLS] fill this room with something magical and [MASK] okay thats the end [SEP]\n",
            "[CLS] fill this world with something magical and [MASK] okay thats the end [SEP]\n",
            "\n",
            "Mask 2:\n",
            "[CLS] fill this [MASK] with something magical and... okay thats the end [SEP]\n",
            "[CLS] fill this [MASK] with something magical and be okay thats the end [SEP]\n",
            "[CLS] fill this [MASK] with something magical and, okay thats the end [SEP]\n"
          ]
        }
      ]
    },
    {
      "cell_type": "markdown",
      "source": [
        "Text generation"
      ],
      "metadata": {
        "id": "a_zbU77WjqsX"
      }
    },
    {
      "cell_type": "code",
      "source": [
        "\n",
        "textgen = pipeline('text-generation',model='gpt2')\n",
        "##Uses extra Argument/Parameter input as number of the output you want also can use trauncation if input big\n",
        "print(textgen('Once Upon a Time',truncation=True,max_new_tokens=10,num_return_sequences=1))"
      ],
      "metadata": {
        "colab": {
          "base_uri": "https://localhost:8080/",
          "height": 293,
          "referenced_widgets": [
            "ed1c8527638a4be19dc92bbc384806fd",
            "f92b62f57cfe4c81a6f20eb30488339f",
            "1bbfc869beef4d849f03f51d78722c67",
            "d6182eea2f554a329c41af9b488b3cb7",
            "5fd882a8802444d791285382a3b0b6fe",
            "dd57e49de12240fbb7191f1c218d4c44",
            "df375b673ae34da5b8d6ae6e076a00f1",
            "3e7b2a0c56f944f0af8f8da95410ce2a",
            "65ba36b4e3b24081a0369ba2ca7764e9",
            "2f41880f9eed446eab9127f8c1eff330",
            "06c4ad03d46a48669be8b12a9207439c",
            "f04a3f5fb6cb48c190ab0ad230d9bae2",
            "75dc727df1204efeba85201dc45e7658",
            "111296022ff24ee9b82553c330ea8955",
            "3ab15b3e4e0d4cc393b2d9db9bf83952",
            "3d045f4e5c5245339643f72ab89983bc",
            "f5cd893113314416879da9455bdfc28c",
            "6b4603fb9af04d66a4028a393906efcc",
            "3739e79bbee34fac8118359745762e96",
            "0c54db257ff64da69eae44e2a7f020d5",
            "eec9a2cc7fba47bdacbe07d62d0c5159",
            "3659e2f89cf54f49a2151fe2d09a5165",
            "8ae6deb4b89245e793b906ec7e6e13ff",
            "1fb4f487c90542d0a33a1ad40a917a96",
            "0b2cd4845948431895de64b43a6c1e40",
            "4e5233348d4e4c1fac5c02e8ca0027cb",
            "2d661cb812a94d549f04d4f63c96ad1c",
            "8a5314437ea249eda29dc263fa12b665",
            "93e13eb3969d47d087732cf0da3a89ce",
            "51cefa4508bc464a9b5f41f38802b7d9",
            "4356386f82934937aa095439828f46c4",
            "fc51da14fbf84a378b041587c1956a37",
            "04b2cd748f6f4daca6ed16285244aef6",
            "4e2d5a5572a94ec08058e04c29a2d766",
            "746b8212d7cd453cbb6c2dfb8300a778",
            "b7bc2e7695ff4846a85959475d461f0f",
            "9b14d24cef8b44e383c2ef513b5709fa",
            "b1fda2e124744ed99049cb663810c8f8",
            "20d503766c704cf8b638cd9e99708589",
            "a2e17e4d7ee643c6b15e7724922a22fc",
            "08a01b77c5f9449d8611c690e9415299",
            "68aee32024d54718994f83627269f9e9",
            "891fb5c3b1a64445b0cc9c274ee03e1e",
            "144e0b568b924f28bced53374f2429de",
            "f0dbba55f7094185acc6ca14d04d7e07",
            "abf7cf87c54d43b38fff692924661a62",
            "047ee4d12f3b446ebbbf6556dc61e246",
            "da8de65c2da04d24b828229f5f453505",
            "b19de502077b41768029ee4daae0d90a",
            "751ee78338b1454bb2c5534187444740",
            "b773704ec84e4b5aa650764ee601759d",
            "7959f12f1f0742e68628999092449990",
            "4a770592b1cf4a79ae0a9d19f4e79712",
            "9b199d9dcff1472fa9b09f645a60cccb",
            "d7cf95cc58004991abdd7290851097df",
            "8e35e0be4d7e4d70995f3b9d09484a31",
            "85f09fcee8fc49b4a29cef1ec91acfd5",
            "75278716aa44403eb8a5d6278fb71555",
            "7289d8b73b4e45128a08f86e7d01e7f4",
            "e5d5bb7cfcc24edea06f1aa89249235d",
            "fc0bd1602d1342bc96c4ac0e49d434ff",
            "2be169ec7ab643be98f51ff81fd6497d",
            "df8e57dbea9c41e6b123aafaeeff8b7b",
            "aa874afbc2994462944b8c7555fbd5a8",
            "ae8cc095c344481cbfb5296ae44dfb98",
            "b9bb1a05c655421abb01bbad260655ca",
            "59d8733e34d4410691863a2250ac27ff",
            "3b97ce1de9404fb7ae3333ab96f27b67",
            "163af7024f5c4e528d99292133d178c3",
            "de9fc995223c43729c24e13da14160f0",
            "7b69077785894d8180f0860f66769a14",
            "df5c85f8ee064b628c81deeeab063343",
            "0ebd7efe1e664f27848f86bd7fd6b08d",
            "b734eeae5d6b487ca9dcd2eb8646db97",
            "a1c79014e5124538a15a188fa8755870",
            "1d2ea0d46ab24d9bb455efea1a350190",
            "56686e954c2a4ba0ae7d70ef55780661"
          ]
        },
        "id": "8OIyiEQBi_0R",
        "outputId": "45f28518-9b6c-4bb7-91ef-5939c8d41a17"
      },
      "execution_count": null,
      "outputs": [
        {
          "output_type": "display_data",
          "data": {
            "text/plain": [
              "config.json:   0%|          | 0.00/665 [00:00<?, ?B/s]"
            ],
            "application/vnd.jupyter.widget-view+json": {
              "version_major": 2,
              "version_minor": 0,
              "model_id": "ed1c8527638a4be19dc92bbc384806fd"
            }
          },
          "metadata": {}
        },
        {
          "output_type": "display_data",
          "data": {
            "text/plain": [
              "model.safetensors:   0%|          | 0.00/548M [00:00<?, ?B/s]"
            ],
            "application/vnd.jupyter.widget-view+json": {
              "version_major": 2,
              "version_minor": 0,
              "model_id": "f04a3f5fb6cb48c190ab0ad230d9bae2"
            }
          },
          "metadata": {}
        },
        {
          "output_type": "display_data",
          "data": {
            "text/plain": [
              "generation_config.json:   0%|          | 0.00/124 [00:00<?, ?B/s]"
            ],
            "application/vnd.jupyter.widget-view+json": {
              "version_major": 2,
              "version_minor": 0,
              "model_id": "8ae6deb4b89245e793b906ec7e6e13ff"
            }
          },
          "metadata": {}
        },
        {
          "output_type": "display_data",
          "data": {
            "text/plain": [
              "tokenizer_config.json:   0%|          | 0.00/26.0 [00:00<?, ?B/s]"
            ],
            "application/vnd.jupyter.widget-view+json": {
              "version_major": 2,
              "version_minor": 0,
              "model_id": "4e2d5a5572a94ec08058e04c29a2d766"
            }
          },
          "metadata": {}
        },
        {
          "output_type": "display_data",
          "data": {
            "text/plain": [
              "vocab.json:   0%|          | 0.00/1.04M [00:00<?, ?B/s]"
            ],
            "application/vnd.jupyter.widget-view+json": {
              "version_major": 2,
              "version_minor": 0,
              "model_id": "f0dbba55f7094185acc6ca14d04d7e07"
            }
          },
          "metadata": {}
        },
        {
          "output_type": "display_data",
          "data": {
            "text/plain": [
              "merges.txt:   0%|          | 0.00/456k [00:00<?, ?B/s]"
            ],
            "application/vnd.jupyter.widget-view+json": {
              "version_major": 2,
              "version_minor": 0,
              "model_id": "8e35e0be4d7e4d70995f3b9d09484a31"
            }
          },
          "metadata": {}
        },
        {
          "output_type": "display_data",
          "data": {
            "text/plain": [
              "tokenizer.json:   0%|          | 0.00/1.36M [00:00<?, ?B/s]"
            ],
            "application/vnd.jupyter.widget-view+json": {
              "version_major": 2,
              "version_minor": 0,
              "model_id": "59d8733e34d4410691863a2250ac27ff"
            }
          },
          "metadata": {}
        },
        {
          "output_type": "stream",
          "name": "stderr",
          "text": [
            "Device set to use cpu\n",
            "Setting `pad_token_id` to `eos_token_id`:50256 for open-end generation.\n"
          ]
        },
        {
          "output_type": "stream",
          "name": "stdout",
          "text": [
            "[{'generated_text': 'Once Upon a Time:\\n\\nAt any time on this level,'}]\n"
          ]
        }
      ]
    },
    {
      "cell_type": "code",
      "source": [
        "#input as list\n",
        "prompts = [\n",
        "    \"Once upon a time in Mumbai,\",\n",
        "    \"Artificial Intelligence is changing\",\n",
        "    \"The best movie I watched was\"\n",
        "]\n",
        "\n",
        "output = textgen(prompts,truncation=True,max_new_tokens=20)"
      ],
      "metadata": {
        "colab": {
          "base_uri": "https://localhost:8080/"
        },
        "id": "GZe-4CKXleLo",
        "outputId": "7b67a1a8-3e3c-4285-e1c3-2522ea892e36"
      },
      "execution_count": null,
      "outputs": [
        {
          "output_type": "stream",
          "name": "stderr",
          "text": [
            "Setting `pad_token_id` to `eos_token_id`:50256 for open-end generation.\n",
            "Setting `pad_token_id` to `eos_token_id`:50256 for open-end generation.\n",
            "Setting `pad_token_id` to `eos_token_id`:50256 for open-end generation.\n"
          ]
        }
      ]
    },
    {
      "cell_type": "code",
      "source": [
        "#input as strings\n",
        "t1='damn it ik you are'\n",
        "t2='wow i love and hate'\n",
        "t3='women are so'\n",
        "output = textgen([t1,t2,t3],truncation=True,max_new_tokens=20)"
      ],
      "metadata": {
        "colab": {
          "base_uri": "https://localhost:8080/"
        },
        "id": "2_ZuwSH6nzJb",
        "outputId": "e2ee9261-3906-4df6-afd2-63c9745ab397"
      },
      "execution_count": null,
      "outputs": [
        {
          "output_type": "stream",
          "name": "stderr",
          "text": [
            "Setting `pad_token_id` to `eos_token_id`:50256 for open-end generation.\n",
            "Setting `pad_token_id` to `eos_token_id`:50256 for open-end generation.\n",
            "Setting `pad_token_id` to `eos_token_id`:50256 for open-end generation.\n"
          ]
        }
      ]
    },
    {
      "cell_type": "code",
      "source": [
        "#list output how to do\n",
        "j = 0\n",
        "for i in output:\n",
        "  print(i[0]['generated_text'])\n",
        "  print(f'end of output , upcoming next {j}')\n",
        "  j+=1"
      ],
      "metadata": {
        "colab": {
          "base_uri": "https://localhost:8080/"
        },
        "id": "L8m-vJ3QmGaI",
        "outputId": "223720c8-62b1-454c-85b2-6d149f55f41d"
      },
      "execution_count": null,
      "outputs": [
        {
          "output_type": "stream",
          "name": "stdout",
          "text": [
            "damn it ik you are a good guy.\n",
            "\n",
            "\n",
            "I am at the beginning of a new chapter. I will not be\n",
            "end of output , upcoming next 0\n",
            "wow i love and hate this game, but the game is so good I don't even care. i'm not a gamer\n",
            "end of output , upcoming next 1\n",
            "women are so concerned about health care, and so they've got to come up with sensible solutions to stop them getting\n",
            "end of output , upcoming next 2\n"
          ]
        }
      ]
    },
    {
      "cell_type": "code",
      "source": [
        "#string printing with sequences or number of variations\n",
        "num_return_sequences = 2\n",
        "t1='damn it ik you are'\n",
        "t2='wow i love and hate'\n",
        "t3='women are so'\n",
        "t4='wow i like'\n",
        "output = textgen([t1,t2,t3,t4],truncation=True,max_new_tokens=10,num_return_sequences=num_return_sequences)\n",
        "\n"
      ],
      "metadata": {
        "colab": {
          "base_uri": "https://localhost:8080/"
        },
        "id": "lwN3p71MmV-e",
        "outputId": "f6365510-112d-4a22-f31f-305019e426fb"
      },
      "execution_count": null,
      "outputs": [
        {
          "output_type": "stream",
          "name": "stderr",
          "text": [
            "Setting `pad_token_id` to `eos_token_id`:50256 for open-end generation.\n",
            "Setting `pad_token_id` to `eos_token_id`:50256 for open-end generation.\n",
            "Setting `pad_token_id` to `eos_token_id`:50256 for open-end generation.\n",
            "Setting `pad_token_id` to `eos_token_id`:50256 for open-end generation.\n"
          ]
        }
      ]
    },
    {
      "cell_type": "code",
      "source": [
        "output"
      ],
      "metadata": {
        "colab": {
          "base_uri": "https://localhost:8080/"
        },
        "id": "UmE8KO7trG_h",
        "outputId": "256d688f-5adc-4ea9-b8d7-537e0d3cce87"
      },
      "execution_count": null,
      "outputs": [
        {
          "output_type": "execute_result",
          "data": {
            "text/plain": [
              "[[{'generated_text': 'damn it ik you are so good you really should be here in the world'},\n",
              "  {'generated_text': \"damn it ik you are talking about. The problem is that it's not\"}],\n",
              " [{'generated_text': 'wow i love and hate this game and i hope that they change their business'},\n",
              "  {'generated_text': 'wow i love and hate you guys so much (and i always feel so'}],\n",
              " [{'generated_text': 'women are so often the victims of such attacks.\\n\\nAnd'},\n",
              "  {'generated_text': 'women are so much more important than their husbands. They have to'}],\n",
              " [{'generated_text': \"wow i like it and i know it's gonna be great but\"},\n",
              "  {'generated_text': 'wow i like the way the character designs are done, but I'}]]"
            ]
          },
          "metadata": {},
          "execution_count": 17
        }
      ]
    },
    {
      "cell_type": "code",
      "source": [
        "\n",
        "for i in range(num_return_sequences):\n",
        "  for j in range(len(output)):\n",
        "    print(output[j][i]['generated_text'])\n",
        "    print('ending')"
      ],
      "metadata": {
        "colab": {
          "base_uri": "https://localhost:8080/"
        },
        "id": "UIE2uvZkq2Dy",
        "outputId": "9ed971f0-2120-4791-89c2-0b4b5070673f"
      },
      "execution_count": null,
      "outputs": [
        {
          "output_type": "stream",
          "name": "stdout",
          "text": [
            "damn it ik you are so good you really should be here in the world\n",
            "ending\n",
            "wow i love and hate this game and i hope that they change their business\n",
            "ending\n",
            "women are so often the victims of such attacks.\n",
            "\n",
            "And\n",
            "ending\n",
            "wow i like it and i know it's gonna be great but\n",
            "ending\n",
            "damn it ik you are talking about. The problem is that it's not\n",
            "ending\n",
            "wow i love and hate you guys so much (and i always feel so\n",
            "ending\n",
            "women are so much more important than their husbands. They have to\n",
            "ending\n",
            "wow i like the way the character designs are done, but I\n",
            "ending\n"
          ]
        }
      ]
    },
    {
      "cell_type": "markdown",
      "source": [],
      "metadata": {
        "id": "SaleDzifunHZ"
      }
    },
    {
      "cell_type": "code",
      "source": [
        "t1 = \"damn it ik you are. Write in one continuous sentence without line breaks.\"\n",
        "output = textgen(t1,truncation=True,max_new_tokens=10)\n",
        "output[0]['generated_text']"
      ],
      "metadata": {
        "colab": {
          "base_uri": "https://localhost:8080/",
          "height": 53
        },
        "id": "iHlvo4XEt6qS",
        "outputId": "ff994b77-1035-4678-a05d-992efac86534"
      },
      "execution_count": null,
      "outputs": [
        {
          "output_type": "stream",
          "name": "stderr",
          "text": [
            "Setting `pad_token_id` to `eos_token_id`:50256 for open-end generation.\n"
          ]
        },
        {
          "output_type": "execute_result",
          "data": {
            "text/plain": [
              "'damn it ik you are. Write in one continuous sentence without line breaks.\\n\\nFor a great introductory article on writing in'"
            ],
            "application/vnd.google.colaboratory.intrinsic+json": {
              "type": "string"
            }
          },
          "metadata": {},
          "execution_count": 19
        }
      ]
    },
    {
      "cell_type": "markdown",
      "source": [
        "AutoModelForSeq2SeqLM → Translation / Summarization"
      ],
      "metadata": {
        "id": "v8hsifPk92hv"
      }
    },
    {
      "cell_type": "code",
      "source": [
        "summerize = pipeline('summarization',model='facebook/bart-large-cnn')\n",
        "text = 'SUMMARY-Technically strong Full Stack WebApp Developer with 2+ years of experience building scalable web applications using Python and React.js. Proficient in integrating advanced AI/LLM Models (e.g., Gemini 2.5, Mistral 7B) with model governance and validation. Combined with hands-on development experience with a strong foundation in statistical analysis and data visualization, including building interactive dashboards and end-to-end data pipelines. Adept at translating complex business requirements in the financial and risk domains into high-quality, efficient software solutions while ensuring the fairness and transparency of AI systems.'\n",
        "# Uses extra Argument/Parameter input as range gives the model breathing room while generating and warning is fine we use better maxnewtoken which is gen lenght instead of max-lenghth which is input+output length\n",
        "output = summerize(text,max_new_tokens=50,min_length=20)\n",
        "output"
      ],
      "metadata": {
        "id": "1XZJz1wT9z0Y",
        "colab": {
          "base_uri": "https://localhost:8080/"
        },
        "outputId": "e1212c22-5696-405e-96c5-e3a648cacdb1"
      },
      "execution_count": null,
      "outputs": [
        {
          "output_type": "stream",
          "name": "stderr",
          "text": [
            "Device set to use cpu\n",
            "Your max_length is set to 142, but your input_length is only 125. Since this is a summarization task, where outputs shorter than the input are typically wanted, you might consider decreasing max_length manually, e.g. summarizer('...', max_length=62)\n"
          ]
        },
        {
          "output_type": "execute_result",
          "data": {
            "text/plain": [
              "[{'summary_text': 'Technically strong Full Stack WebApp Developer with 2+ years of experience building scalable web applications using Python and React.js. Proficient in integrating advanced AI/LLM Models with model governance and validation.'}]"
            ]
          },
          "metadata": {},
          "execution_count": 22
        }
      ]
    },
    {
      "cell_type": "code",
      "source": [
        "transla = pipeline('translation_en_to_fr',model='Helsinki-NLP/opus-mt-en-fr')\n",
        "output = transla('Hello there My Name is Talha')\n",
        "output"
      ],
      "metadata": {
        "colab": {
          "base_uri": "https://localhost:8080/"
        },
        "id": "wDEYpIXx7o8l",
        "outputId": "b882be3f-6594-45ab-f64e-5d819b815f63"
      },
      "execution_count": null,
      "outputs": [
        {
          "output_type": "stream",
          "name": "stderr",
          "text": [
            "/usr/local/lib/python3.12/dist-packages/transformers/models/marian/tokenization_marian.py:175: UserWarning: Recommended: pip install sacremoses.\n",
            "  warnings.warn(\"Recommended: pip install sacremoses.\")\n",
            "Device set to use cpu\n"
          ]
        },
        {
          "output_type": "execute_result",
          "data": {
            "text/plain": [
              "[{'translation_text': 'Bonjour mon nom est Talha'}]"
            ]
          },
          "metadata": {},
          "execution_count": 24
        }
      ]
    },
    {
      "cell_type": "markdown",
      "source": [
        "AutoModelForQuestionAnswering → Extractive QA"
      ],
      "metadata": {
        "id": "NDrMNu6E-K8X"
      }
    },
    {
      "cell_type": "code",
      "source": [
        "quesans = pipeline('question-answering',model='distilbert-base-uncased-distilled-squad')"
      ],
      "metadata": {
        "colab": {
          "base_uri": "https://localhost:8080/",
          "height": 130,
          "referenced_widgets": [
            "6fd68c23095b4ff0b9f020867a9ac8a2",
            "a7fddfc88e094699a95575b31c72bd4d",
            "9ae0f4f3a4444631a0b8eddfd6905c79",
            "6a8e46dafde94bccbc39b0c577af1d2a",
            "58cb95ee42f24445949a04fb50292841",
            "018a6469eb794281aa6f21aa3942245d",
            "93c1eb773f304bc5b7aedff71a816b33",
            "0b83a5772d65485c96f497e5bb23c731",
            "bcda177ffeaf4c158f6bbe0f83cda393",
            "019259bcefae4516b24e014a199ea517",
            "4e48fd6558184de199569d037a9d61e1",
            "d382e16ad3a642ea9cba4d51059e2b8c",
            "f7f6938c2455425c9ac9069d2fefeff8",
            "06bc2f2fbbf949bd851be2e9d3fc46b8",
            "0a7b02b6d96a400b97b4db14f4f4f0ac",
            "fbb3f3789954425badba22fd97d096a7",
            "a4d9a22cd36143edb2ce4b2d1ea18acd",
            "ca4666f771f749afbf1dd242e5fb09fa",
            "29a47c8c9d3f48b3b299c261df7b3f24",
            "beb119648e9945b780e0f8a718dc1fd7",
            "3d61ce9915ac49a889f157a685080f07",
            "4266aeee91bb4ef7841aeeef2253c6fc",
            "7244401b3afd40d0b39cdb9cd65fde5d",
            "346435e82e724d5a9de82f523023b120",
            "dfaa9bef0d8040009ce74d6a8cd1af0f",
            "db7ac25fc4dd4eb2937383c0966674eb",
            "15ad4d88e4c645f690e685db680b1ed4",
            "c1346a9b93504623beacad98aa2d6cc8",
            "ca85a5379c3747d6887a02c72d1fa108",
            "4f8596184b884d4ebc211615e3eea8d6",
            "cbe6e166dd9c407484b6b9a6e42dceed",
            "1e84d9bf62ef49eaa8a8a25b45cd1520",
            "5960b855b2b940988cdd518c9ae29a4e"
          ]
        },
        "id": "qxQn17yD8P5b",
        "outputId": "a0090445-c32c-4a6d-8685-e77cd9756a30"
      },
      "execution_count": null,
      "outputs": [
        {
          "output_type": "display_data",
          "data": {
            "text/plain": [
              "Fetching 0 files: 0it [00:00, ?it/s]"
            ],
            "application/vnd.jupyter.widget-view+json": {
              "version_major": 2,
              "version_minor": 0,
              "model_id": "6fd68c23095b4ff0b9f020867a9ac8a2"
            }
          },
          "metadata": {}
        },
        {
          "output_type": "display_data",
          "data": {
            "text/plain": [
              "Fetching 1 files:   0%|          | 0/1 [00:00<?, ?it/s]"
            ],
            "application/vnd.jupyter.widget-view+json": {
              "version_major": 2,
              "version_minor": 0,
              "model_id": "d382e16ad3a642ea9cba4d51059e2b8c"
            }
          },
          "metadata": {}
        },
        {
          "output_type": "display_data",
          "data": {
            "text/plain": [
              "Fetching 0 files: 0it [00:00, ?it/s]"
            ],
            "application/vnd.jupyter.widget-view+json": {
              "version_major": 2,
              "version_minor": 0,
              "model_id": "7244401b3afd40d0b39cdb9cd65fde5d"
            }
          },
          "metadata": {}
        },
        {
          "output_type": "stream",
          "name": "stderr",
          "text": [
            "Device set to use cpu\n"
          ]
        }
      ]
    },
    {
      "cell_type": "code",
      "source": [
        "context = \"\"\"\n",
        "Talha Shaikh is a computer engineer based in Mumbai.\n",
        "He enjoys working on machine learning, web development, and AI projects.\n",
        "He has completed internships at multiple companies and loves anime, especially One Piece.\n",
        "\"\"\"\n",
        "\n",
        "questions = [\n",
        "    \"Where does Talha live?\",\n",
        "    \"What is his profession?\",\n",
        "    \"Which anime does he like?\"\n",
        "]"
      ],
      "metadata": {
        "id": "-L8oNonK_07B"
      },
      "execution_count": null,
      "outputs": []
    },
    {
      "cell_type": "code",
      "source": [
        "for q in questions:\n",
        "  output=quesans(question=q,context=context)\n",
        "  print(f'question is this {q} \\n & the ans is {output[\"answer\"]}')"
      ],
      "metadata": {
        "colab": {
          "base_uri": "https://localhost:8080/"
        },
        "id": "PhiZX4GE_3dk",
        "outputId": "61360a5f-8550-41b9-86c7-2207723ad902"
      },
      "execution_count": null,
      "outputs": [
        {
          "output_type": "stream",
          "name": "stdout",
          "text": [
            "question is this Where does Talha live? \n",
            " & the ans is Mumbai\n",
            "question is this What is his profession? \n",
            " & the ans is computer engineer\n",
            "question is this Which anime does he like? \n",
            " & the ans is One Piece\n"
          ]
        }
      ]
    },
    {
      "cell_type": "markdown",
      "source": [
        "AutoModelForImageClassification"
      ],
      "metadata": {
        "id": "xkJP7kR9Su5x"
      }
    },
    {
      "cell_type": "code",
      "source": [
        "imageclassi = pipeline('image-classification',model='google/vit-base-patch16-224')\n",
        "print(imageclassi('https://images.squarespace-cdn.com/content/v1/607f89e638219e13eee71b1e/1684821560422-SD5V37BAG28BURTLIXUQ/michael-sum-LEpfefQf4rU-unsplash.jpg'))"
      ],
      "metadata": {
        "colab": {
          "base_uri": "https://localhost:8080/",
          "height": 153,
          "referenced_widgets": [
            "9776db21d1a24a33a6f23c8e39e4b400",
            "96f08025bcb6467cadb6c035d6ea3a53",
            "3a07c4ad0f9043dd8ee120b2b171636b",
            "aa051476a398408a9fd238e96192980e",
            "522484a7ee6d44e0bb14bca3142c87a3",
            "39c1d426ff7249799ff4627499d87511",
            "22cef8db8779441b91a23563f07dfa26",
            "3882f683503143e2bb8d09d967d824f0",
            "d34e2d8bd61c4bdbac8380241916830d",
            "523b2a778b3346d290706e08ecc66168",
            "d670242fdcf848989f5ebfa1b1d34709",
            "25236f7648e343fa8a7033c08b3e129e",
            "25088ce739484300b51c342c67f43b6c",
            "42cce8ba211e4765b20db6e71fb2d990",
            "bc231f5f6dde4552b63695eb88917ba6",
            "e0e5e6af647c4593843ec52f0aad0bf1",
            "98429ad947ad488dbb12db58443043ee",
            "5449cbe6a9784f9080e10b5104cc8178",
            "73504d02acf146fc94fed2f64de0cb66",
            "7cb2d6a4bf254f7bb0234f283a287c1e",
            "9b000386f5e941bd99ebfc1ef4e1eb1b",
            "6946e103221242bdb7a793870ab66a8e"
          ]
        },
        "id": "QKGBDH70AG7G",
        "outputId": "836c112b-46f0-44e1-93ab-bce2c3d130eb"
      },
      "execution_count": null,
      "outputs": [
        {
          "output_type": "display_data",
          "data": {
            "text/plain": [
              "Fetching 1 files:   0%|          | 0/1 [00:00<?, ?it/s]"
            ],
            "application/vnd.jupyter.widget-view+json": {
              "version_major": 2,
              "version_minor": 0,
              "model_id": "9776db21d1a24a33a6f23c8e39e4b400"
            }
          },
          "metadata": {}
        },
        {
          "output_type": "stream",
          "name": "stderr",
          "text": [
            "Fast image processor class <class 'transformers.models.vit.image_processing_vit_fast.ViTImageProcessorFast'> is available for this model. Using slow image processor class. To use the fast image processor class set `use_fast=True`.\n"
          ]
        },
        {
          "output_type": "display_data",
          "data": {
            "text/plain": [
              "Fetching 1 files:   0%|          | 0/1 [00:00<?, ?it/s]"
            ],
            "application/vnd.jupyter.widget-view+json": {
              "version_major": 2,
              "version_minor": 0,
              "model_id": "25236f7648e343fa8a7033c08b3e129e"
            }
          },
          "metadata": {}
        },
        {
          "output_type": "stream",
          "name": "stderr",
          "text": [
            "Device set to use cpu\n"
          ]
        },
        {
          "output_type": "stream",
          "name": "stdout",
          "text": [
            "[{'label': 'tiger cat', 'score': 0.6035303473472595}, {'label': 'tabby, tabby cat', 'score': 0.2196335792541504}, {'label': 'Egyptian cat', 'score': 0.13340623676776886}, {'label': 'Persian cat', 'score': 0.005764685571193695}, {'label': 'lens cap, lens cover', 'score': 0.0013169680023565888}]\n"
          ]
        }
      ]
    },
    {
      "cell_type": "code",
      "source": [
        "output = imageclassi('https://images.squarespace-cdn.com/content/v1/607f89e638219e13eee71b1e/1684821560422-SD5V37BAG28BURTLIXUQ/michael-sum-LEpfefQf4rU-unsplash.jpg')\n",
        "output[0]"
      ],
      "metadata": {
        "colab": {
          "base_uri": "https://localhost:8080/"
        },
        "id": "3b0Q-fj6TTq-",
        "outputId": "831bf235-5c00-411f-c663-e9b3a10ffcf4"
      },
      "execution_count": null,
      "outputs": [
        {
          "output_type": "execute_result",
          "data": {
            "text/plain": [
              "{'label': 'tiger cat', 'score': 0.6035303473472595}"
            ]
          },
          "metadata": {},
          "execution_count": 43
        }
      ]
    },
    {
      "cell_type": "code",
      "source": [
        "output[0]['label']"
      ],
      "metadata": {
        "colab": {
          "base_uri": "https://localhost:8080/",
          "height": 35
        },
        "id": "h4T-9tmgqRct",
        "outputId": "55dfc3ae-09a2-4381-c87d-07ddec47c924"
      },
      "execution_count": null,
      "outputs": [
        {
          "output_type": "execute_result",
          "data": {
            "text/plain": [
              "'tiger cat'"
            ],
            "application/vnd.google.colaboratory.intrinsic+json": {
              "type": "string"
            }
          },
          "metadata": {},
          "execution_count": 47
        }
      ]
    },
    {
      "cell_type": "markdown",
      "source": [
        "AutoModelForSemanticSegmentation"
      ],
      "metadata": {
        "id": "RHV7nPZkqvLi"
      }
    },
    {
      "cell_type": "code",
      "source": [
        "segmenter = pipeline(\"image-segmentation\", model=\"nvidia/segformer-b0-finetuned-ade-512-512\")\n",
        "outputs=segmenter(\"https://t4.ftcdn.net/jpg/02/93/58/31/360_F_293583117_jG53zC2gYdOGERWmhpJu4o8RPAanS4T2.jpg\")\n",
        "outputs"
      ],
      "metadata": {
        "colab": {
          "base_uri": "https://localhost:8080/",
          "height": 485,
          "referenced_widgets": [
            "ddc8b88b1e524bda8796058011b83fc0",
            "192229582f6349c6b3de4a552a1553f1",
            "0ab4db113e344335ba4ccdc7eb420690",
            "834f9c0901e147e9bbd9a58a325f5a0f",
            "aaeb16753b854b288d2bb7c4d7f2fa35",
            "c0970f57cff94b9b82264850943399cf",
            "b8959e4db5dc4396bc5d0205d09b4780",
            "5098779aeb81422d979e9dbea9c070c8",
            "f9ee51008a8047b096e0c4c55b7f3135",
            "028ef4841114413d973c243fa1c7adc8",
            "f009bad9d7a7481ebb4ad1c6700ee2a4"
          ]
        },
        "id": "hgzlkuD5qu9B",
        "outputId": "e358f48a-30af-4310-97d0-cd29edf96dce"
      },
      "execution_count": null,
      "outputs": [
        {
          "output_type": "display_data",
          "data": {
            "text/plain": [
              "Fetching 1 files:   0%|          | 0/1 [00:00<?, ?it/s]"
            ],
            "application/vnd.jupyter.widget-view+json": {
              "version_major": 2,
              "version_minor": 0,
              "model_id": "ddc8b88b1e524bda8796058011b83fc0"
            }
          },
          "metadata": {}
        },
        {
          "output_type": "stream",
          "name": "stderr",
          "text": [
            "/usr/local/lib/python3.12/dist-packages/transformers/image_processing_base.py:410: UserWarning: The following named arguments are not valid for `SegformerImageProcessor.__init__` and were ignored: 'reduce_labels'\n",
            "  image_processor = cls(**image_processor_dict)\n",
            "Device set to use cpu\n"
          ]
        },
        {
          "output_type": "execute_result",
          "data": {
            "text/plain": [
              "[{'score': None,\n",
              "  'label': 'building',\n",
              "  'mask': <PIL.Image.Image image mode=L size=539x360>},\n",
              " {'score': None,\n",
              "  'label': 'sky',\n",
              "  'mask': <PIL.Image.Image image mode=L size=539x360>},\n",
              " {'score': None,\n",
              "  'label': 'tree',\n",
              "  'mask': <PIL.Image.Image image mode=L size=539x360>},\n",
              " {'score': None,\n",
              "  'label': 'road',\n",
              "  'mask': <PIL.Image.Image image mode=L size=539x360>},\n",
              " {'score': None,\n",
              "  'label': 'sidewalk',\n",
              "  'mask': <PIL.Image.Image image mode=L size=539x360>},\n",
              " {'score': None,\n",
              "  'label': 'plant',\n",
              "  'mask': <PIL.Image.Image image mode=L size=539x360>},\n",
              " {'score': None,\n",
              "  'label': 'ashcan',\n",
              "  'mask': <PIL.Image.Image image mode=L size=539x360>}]"
            ]
          },
          "metadata": {},
          "execution_count": 52
        }
      ]
    },
    {
      "cell_type": "code",
      "source": [
        "import matplotlib.pyplot as plt\n",
        "\n",
        "\n",
        "\n",
        "for item in outputs:\n",
        "    plt.figure()\n",
        "    plt.title(item[\"label\"])\n",
        "    plt.imshow(item[\"mask\"], cmap=\"gray\")  # show binary mask\n",
        "    plt.axis(\"off\")\n",
        "    plt.show()\n"
      ],
      "metadata": {
        "colab": {
          "base_uri": "https://localhost:8080/",
          "height": 1000
        },
        "id": "4DZuMFB9rSMK",
        "outputId": "ca3fe5ce-ba00-40e7-bd9d-78390792cf85"
      },
      "execution_count": null,
      "outputs": [
        {
          "output_type": "display_data",
          "data": {
            "text/plain": [
              "<Figure size 640x480 with 1 Axes>"
            ],
            "image/png": "[encoded data removed]"
          },
          "metadata": {}
        },
        {
          "output_type": "display_data",
          "data": {
            "text/plain": [
              "<Figure size 640x480 with 1 Axes>"
            ],
            "image/png": "[encoded data removed]"
          },
          "metadata": {}
        },
        {
          "output_type": "display_data",
          "data": {
            "text/plain": [
              "<Figure size 640x480 with 1 Axes>"
            ],
            "image/png": "[encoded data removed]"
          },
          "metadata": {}
        },
        {
          "output_type": "display_data",
          "data": {
            "text/plain": [
              "<Figure size 640x480 with 1 Axes>"
            ],
            "image/png": "[encoded data removed]"
          },
          "metadata": {}
        },
        {
          "output_type": "display_data",
          "data": {
            "text/plain": [
              "<Figure size 640x480 with 1 Axes>"
            ],
            "image/png": "[encoded data removed]"
          },
          "metadata": {}
        },
        {
          "output_type": "display_data",
          "data": {
            "text/plain": [
              "<Figure size 640x480 with 1 Axes>"
            ],
            "image/png": "[encoded data removed]"
          },
          "metadata": {}
        },
        {
          "output_type": "display_data",
          "data": {
            "text/plain": [
              "<Figure size 640x480 with 1 Axes>"
            ],
            "image/png": "[encoded data removed]"
          },
          "metadata": {}
        }
      ]
    },
    {
      "cell_type": "code",
      "source": [
        "captioner = pipeline(\"image-to-text\", model=\"nlpconnect/vit-gpt2-image-captioning\")\n",
        "print(captioner(\"data:image/jpeg;base64,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\"))\n"
      ],
      "metadata": {
        "colab": {
          "base_uri": "https://localhost:8080/",
          "height": 478,
          "referenced_widgets": [
            "bf522a1fedc94db7a1d9ab5f01881a7d",
            "82521ee7168f43928976d7a093a3849e",
            "ee232ab3724d4d3c9abe25bb9341c67c",
            "1baf9f6ee5ab432da3571a46a693ac5e",
            "fac0a267b94a4975b1e8a0c2f625b0b9",
            "eda0b32963004a3bb380129f35fed363",
            "33789b0091044827b806402c99e55b3d",
            "5bcc40b264664bf4b1870878dccd5e46",
            "50b893dada38437692106d895bd35001",
            "39c55303c0b34a2a95eaedbf1cabf9f9",
            "c1d94595993c4971ba6de06886239ff3",
            "ea8215db60784d7189bff025b4fbf3a0",
            "b974f4540c764258a7c5707b430df622",
            "b932cc58d4484f84b0af85ce2ce5366c",
            "0268e4c3f78048deb4c0950886003cc8",
            "ccc3afbf9f234e7d984bab64a6920f88",
            "9f61fac8f2b84b2e84c2e93acbd92a5d",
            "314be424a99f42faa230cd38e9081d7f",
            "66b7a406c569468abc83054d933c9456",
            "9e2a0cc35cdf4252840304c630728d58",
            "49221393e451404db89d64db116510ff",
            "1832454fcdf84ce49e22a353d45402aa",
            "6837fe88218f4b77b9aba78ab8d67859",
            "9791e61aba8649e1a299d5d653f65f6e",
            "6b1641977aa64a8791d6f2ae8a5f1af0",
            "4521be57c26b49c7bbf5c531dcdf829f",
            "d53b5b6e29674df3ac45386dc035e23f",
            "b2fb68b71a8e4477a9a018c0f7eddb8b",
            "9bb601da10994ba8a239c980f5581014",
            "9e2201cb3e6b4fc9b09613502802182d",
            "5f089957771c4024ae1d9c14d5c0ca1b",
            "cf5a4285122e4f50bd98791329c71e9d",
            "b4e37adb966f47f6a8b6bb1030a0de0d",
            "e09735e154284cd087e1b68df957aeec",
            "d4fd441dc2a54a63a658690c26b45e11",
            "5f99605bd38e4485afdeee2bc68a6e90",
            "413b7f17a282483db2efd62f1f49b288",
            "1823f8bc90684d8cb046015424bfe2af",
            "379a82cb251d42a09a0a18c2c905a292",
            "ec493c71b7bb4e48b17ce0cbebc54f67",
            "9afe6cd7dc474b33b1d6fa5fcc37e277",
            "054e2d3e566544b1b3375d948a491221",
            "eb029d61a9a94b838c4f07f4e9eead4c",
            "16f326f05ddc4604bb50ac13c07ffbf6",
            "0925691e687043ca83947e7af32e1f96",
            "c51559944bab463e88b0211ff7a1023f",
            "a8f5583c5bd340c4b9cef5279ed983f7",
            "630c7bc9f30e4fa2bf9637a2465f2919",
            "cbf4c79a6bfd4fe7bfeb2aff8880623f",
            "4c23f32959ad461780bb81970d735ec2",
            "344cec712ba1493c89e6d96e9029fb8f",
            "82fbc88b21ce416e89a07dcd09becf19",
            "d8959b57d5fd441da0d0cb55c37d5ae9",
            "3182595c8ae14a64bca7734aa4bc3e2f",
            "7834915ff4d942a783fe4d7c81be1666",
            "09a040cdfe8a429cb9dbd326bb912886",
            "fd25db2f7fa640b78197c60c3981ff1a",
            "1d380657b54f434aa8eebabd6d94e6ab",
            "a6babccc7b8344529db7a2c5bcc68ce2",
            "1ecc04c969904f499640dc42dc2b4805",
            "0d63a3d9012d4401bbb83986b9a8de0e",
            "636badd56a4e49a0bc540078235ed3b6",
            "e5d771bb802143ec9980c5b1f7190871",
            "957898c2cd574ec1a0902307dc19e5da",
            "0869176c05414b238e3ee15d6e1c93dd",
            "fae36024cb3b47509e00ed373e27c7d7",
            "91e07a9604174afb83d075f0b8f3cea4",
            "6b2198d02bb54c0bb1dcf04aea5513c9",
            "7c71c2715c474b8faf503594cf72bdc3",
            "90efa139ecf94a879af3c0ee9b71c931",
            "291a1ae058d0484995ce27b110019c55",
            "20cf02fe4b894e938f0d484091f92f33",
            "c26054d48eb34b02b593a8944383afbf",
            "71d80829473a4b9d9a815fc2825de50a",
            "91ef8f856eb94fc7bb5f418ced9a9f2f",
            "9498a7698cd64bd5a58e6be50684db51",
            "fec9266781ec473f98e4814b66814c3c",
            "dcc1ab88e16e4a849792372a6659bc71",
            "dc43834c99c24c71bf9a5dd1a0cb68ac",
            "14e9746524ac4fa1a7878539d16e8ce7",
            "7a03ffb4bf774636916cb18320ff3c0f",
            "03c38bf12c7d4cdfa1c3cf7a902adbe9",
            "8472edb896ba42bab9736c23fe07e758",
            "7ee2f0b44e64474882579e11fa901246",
            "7cb88e7991a84e28a0be183f61d8ea06",
            "5d0fca07123b4e5e8d1f244a20ae5c79",
            "d52d9f1653294d4f8c86f6a1e35267ed",
            "bb939ec3d007446c9022a89e32a7f6e8",
            "ea830e7673474507a6820aca6e812b36",
            "fd996ed28401444584d4444973d23598",
            "002e392c3aa94cd789fa03d6b94632f2",
            "60b6017ec24942b084e291fa6dcd88df",
            "4df78f2c786646469a496a990fa87514",
            "31426566ac714d5099238bbe189e9a32",
            "850589295659451981c6fad735d0fb05",
            "cd95ac7db2574727894f195654aab189",
            "2e3979fd5bdc4508a72dc8e8742a8425",
            "188fa389746244ac95382aca57be75df",
            "72304c1a38b54e6c95e34a06fa3fa8e8",
            "47e5db7c18dd4066935ae033caeff5bc",
            "6577736224fe45ed95bf512d88ed36b9",
            "0c854f487bb248a39f5e6b910be9060a",
            "e041a654e1da4dd0bf3423ae385dcff6",
            "10ac5678f464487d90b636dc8d9074b6",
            "4ec434ee88514bc188574644609fc17d",
            "92754a431077415b84685b271c2b7f5d",
            "6ec0ea570a8c43c699b3a3eba2cf29ce",
            "65c0c7beec6341ec9f317531720f5709",
            "4d99964ebf5140c7adb20c5d36d57c42",
            "b38777f1ad24457b8dad8a49223338c0"
          ]
        },
        "id": "f-9N1Aj6rz15",
        "outputId": "92509ca2-d0d1-4cbf-dbad-cd69c3a64fc9"
      },
      "execution_count": null,
      "outputs": [
        {
          "output_type": "display_data",
          "data": {
            "text/plain": [
              "config.json: 0.00B [00:00, ?B/s]"
            ],
            "application/vnd.jupyter.widget-view+json": {
              "version_major": 2,
              "version_minor": 0,
              "model_id": "bf522a1fedc94db7a1d9ab5f01881a7d"
            }
          },
          "metadata": {}
        },
        {
          "output_type": "stream",
          "name": "stderr",
          "text": [
            "/usr/local/lib/python3.12/dist-packages/transformers/models/auto/modeling_auto.py:2242: FutureWarning: The class `AutoModelForVision2Seq` is deprecated and will be removed in v5.0. Please use `AutoModelForImageTextToText` instead.\n",
            "  warnings.warn(\n"
          ]
        },
        {
          "output_type": "display_data",
          "data": {
            "text/plain": [
              "pytorch_model.bin:   0%|          | 0.00/982M [00:00<?, ?B/s]"
            ],
            "application/vnd.jupyter.widget-view+json": {
              "version_major": 2,
              "version_minor": 0,
              "model_id": "ea8215db60784d7189bff025b4fbf3a0"
            }
          },
          "metadata": {}
        },
        {
          "output_type": "display_data",
          "data": {
            "text/plain": [
              "model.safetensors:   0%|          | 0.00/982M [00:00<?, ?B/s]"
            ],
            "application/vnd.jupyter.widget-view+json": {
              "version_major": 2,
              "version_minor": 0,
              "model_id": "6837fe88218f4b77b9aba78ab8d67859"
            }
          },
          "metadata": {}
        },
        {
          "output_type": "display_data",
          "data": {
            "text/plain": [
              "tokenizer_config.json:   0%|          | 0.00/241 [00:00<?, ?B/s]"
            ],
            "application/vnd.jupyter.widget-view+json": {
              "version_major": 2,
              "version_minor": 0,
              "model_id": "e09735e154284cd087e1b68df957aeec"
            }
          },
          "metadata": {}
        },
        {
          "output_type": "display_data",
          "data": {
            "text/plain": [
              "vocab.json: 0.00B [00:00, ?B/s]"
            ],
            "application/vnd.jupyter.widget-view+json": {
              "version_major": 2,
              "version_minor": 0,
              "model_id": "0925691e687043ca83947e7af32e1f96"
            }
          },
          "metadata": {}
        },
        {
          "output_type": "display_data",
          "data": {
            "text/plain": [
              "merges.txt: 0.00B [00:00, ?B/s]"
            ],
            "application/vnd.jupyter.widget-view+json": {
              "version_major": 2,
              "version_minor": 0,
              "model_id": "09a040cdfe8a429cb9dbd326bb912886"
            }
          },
          "metadata": {}
        },
        {
          "output_type": "display_data",
          "data": {
            "text/plain": [
              "tokenizer.json: 0.00B [00:00, ?B/s]"
            ],
            "application/vnd.jupyter.widget-view+json": {
              "version_major": 2,
              "version_minor": 0,
              "model_id": "91e07a9604174afb83d075f0b8f3cea4"
            }
          },
          "metadata": {}
        },
        {
          "output_type": "display_data",
          "data": {
            "text/plain": [
              "special_tokens_map.json:   0%|          | 0.00/120 [00:00<?, ?B/s]"
            ],
            "application/vnd.jupyter.widget-view+json": {
              "version_major": 2,
              "version_minor": 0,
              "model_id": "dcc1ab88e16e4a849792372a6659bc71"
            }
          },
          "metadata": {}
        },
        {
          "output_type": "display_data",
          "data": {
            "text/plain": [
              "Fetching 1 files:   0%|          | 0/1 [00:00<?, ?it/s]"
            ],
            "application/vnd.jupyter.widget-view+json": {
              "version_major": 2,
              "version_minor": 0,
              "model_id": "ea830e7673474507a6820aca6e812b36"
            }
          },
          "metadata": {}
        },
        {
          "output_type": "display_data",
          "data": {
            "text/plain": [
              "preprocessor_config.json:   0%|          | 0.00/228 [00:00<?, ?B/s]"
            ],
            "application/vnd.jupyter.widget-view+json": {
              "version_major": 2,
              "version_minor": 0,
              "model_id": "47e5db7c18dd4066935ae033caeff5bc"
            }
          },
          "metadata": {}
        },
        {
          "output_type": "stream",
          "name": "stderr",
          "text": [
            "Device set to use cpu\n",
            "The attention mask is not set and cannot be inferred from input because pad token is same as eos token. As a consequence, you may observe unexpected behavior. Please pass your input's `attention_mask` to obtain reliable results.\n",
            "We strongly recommend passing in an `attention_mask` since your input_ids may be padded. See https://huggingface.co/docs/transformers/troubleshooting#incorrect-output-when-padding-tokens-arent-masked.\n",
            "You may ignore this warning if your `pad_token_id` (50256) is identical to the `bos_token_id` (50256), `eos_token_id` (50256), or the `sep_token_id` (None), and your input is not padded.\n"
          ]
        },
        {
          "output_type": "stream",
          "name": "stdout",
          "text": [
            "[{'generated_text': 'a cat laying on a bed with a striped blanket '}]\n"
          ]
        }
      ]
    },
    {
      "cell_type": "code",
      "source": [],
      "metadata": {
        "id": "E9Ac31Q6smvY"
      },
      "execution_count": null,
      "outputs": []
    }
  ]
}